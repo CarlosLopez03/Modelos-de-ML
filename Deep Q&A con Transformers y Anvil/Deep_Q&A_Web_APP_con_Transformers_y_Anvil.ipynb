{
  "nbformat": 4,
  "nbformat_minor": 0,
  "metadata": {
    "colab": {
      "name": "Deep Q&A Web APP con Transformers y Anvil.ipynb",
      "provenance": []
    },
    "kernelspec": {
      "name": "python3",
      "display_name": "Python 3"
    },
    "language_info": {
      "name": "python"
    }
  },
  "cells": [
    {
      "cell_type": "markdown",
      "source": [
        "# Instalando las dependencias"
      ],
      "metadata": {
        "id": "Y8_eZC948m-a"
      }
    },
    {
      "cell_type": "code",
      "execution_count": null,
      "metadata": {
        "id": "IX-rMhYc8ahi"
      },
      "outputs": [],
      "source": [
        "# PyTorch con CUDA\n",
        "!pip3 install torch torchvision torchaudio"
      ]
    },
    {
      "cell_type": "code",
      "source": [
        "# PyTorch con CUDA\n",
        "!pip install transformers"
      ],
      "metadata": {
        "id": "Z6y4PGxk8dhR"
      },
      "execution_count": null,
      "outputs": []
    },
    {
      "cell_type": "markdown",
      "source": [
        "# Cargando el Modelo ->  Pretrained BERT model"
      ],
      "metadata": {
        "id": "3BR_BMt38h_C"
      }
    },
    {
      "cell_type": "code",
      "source": [
        "# Cargando las dependencias necesarias para RoBERTa Model\n",
        "from transformers import AutoModelForQuestionAnswering, AutoTokenizer, pipeline"
      ],
      "metadata": {
        "id": "OpzSvo9z8f44"
      },
      "execution_count": 1,
      "outputs": []
    },
    {
      "cell_type": "code",
      "source": [
        "# Creación de Q&A pipeline\n",
        "nlp = pipeline('question-answering', model='deepset/roberta-base-squad2', tokenizer='deepset/roberta-base-squad2')"
      ],
      "metadata": {
        "id": "U6VAI_aX8ybw"
      },
      "execution_count": 2,
      "outputs": []
    },
    {
      "cell_type": "code",
      "source": [
        "# Estableciendo el contexto para realizar las preguntas\n",
        "context = \"\"\"\n",
        "Kratos is a fictional character and the protagonist of Santa Monica Studio's God of War series, based on Greek mythology and later, Norse mythology. He first appeared in the 2005 video game God of War, which led to the development of seven additional games featuring the character as the protagonist; another installment is currently in development for a 2022 release on the PlayStation 4 and PlayStation 5. Kratos also appears as the protagonist of the 2010 and 2018 comic series, as well as three novels that retell the events of three of the games. The character was voiced by Terrence C. Carson from 2005 to 2013,[7] with Christopher Judge taking over the role in 2018's continuation, also titled God of War. Antony Del Rio voiced the character as a child in God of War: Ghost of Sparta.\n",
        "\n",
        "Throughout the Greek era of the series, Kratos is portrayed as a Spartan warrior, who becomes known as the \"Ghost of Sparta\" after accidentally killing his family due to Ares' trickery. He later avenges the deaths of his family and becomes the God of War after killing Ares. Kratos is eventually revealed to be a demigod and the son of Zeus, who later betrays him. Kratos embarks on several adventures in attempts to avert disaster or to change his fate. He is usually portrayed as being oblivious to all else and is stoic, bloodthirsty, and arrogant in nature. He often engages in morally ambiguous activities and performs acts of extreme violence. Vengeance is a central theme of the Greek era, and installments focus on Kratos' origins and his relationships with his family and the Olympian gods. In the Norse era of the series, Kratos finds himself controlling his rage and learning how to truly be a father and mentor to his son, Atreus. Along their journey, they combat monsters and gods of the Norse realm, of whom they make enemies, which leads to the pair trying to prevent Ragnarök. \n",
        "\"\"\""
      ],
      "metadata": {
        "id": "Usf6f3tx_NwX"
      },
      "execution_count": 3,
      "outputs": []
    },
    {
      "cell_type": "code",
      "source": [
        "# Estableciento el conjunto de preguntas\n",
        "question_set = {\n",
        "    'question': 'When kratos appeared?',\n",
        "    'context': context\n",
        "}"
      ],
      "metadata": {
        "id": "g_xI95TB-wkX"
      },
      "execution_count": 4,
      "outputs": []
    },
    {
      "cell_type": "code",
      "source": [
        "# Prueba\n",
        "nlp(question_set)"
      ],
      "metadata": {
        "colab": {
          "base_uri": "https://localhost:8080/"
        },
        "id": "aUkmxCMNAL6e",
        "outputId": "d117b97c-751e-488c-e415-5fefb98892af"
      },
      "execution_count": 5,
      "outputs": [
        {
          "output_type": "stream",
          "name": "stderr",
          "text": [
            "/usr/local/lib/python3.7/dist-packages/numpy/core/_asarray.py:83: VisibleDeprecationWarning: Creating an ndarray from ragged nested sequences (which is a list-or-tuple of lists-or-tuples-or ndarrays with different lengths or shapes) is deprecated. If you meant to do this, you must specify 'dtype=object' when creating the ndarray\n",
            "  return array(a, dtype, copy=False, order=order)\n"
          ]
        },
        {
          "output_type": "execute_result",
          "data": {
            "text/plain": [
              "{'answer': '2005', 'end': 179, 'score': 0.7768628001213074, 'start': 175}"
            ]
          },
          "metadata": {},
          "execution_count": 5
        }
      ]
    },
    {
      "cell_type": "markdown",
      "source": [
        "# Conecta a Anvil.Work"
      ],
      "metadata": {
        "id": "lRNWmlGAPlrc"
      }
    },
    {
      "cell_type": "code",
      "source": [
        "# Instalación la biblioteca anvil-uplink \n",
        "!pip install anvil-uplink"
      ],
      "metadata": {
        "id": "eCavSs2M_wXO"
      },
      "execution_count": null,
      "outputs": []
    },
    {
      "cell_type": "code",
      "source": [
        "# Importación de la dependencia\n",
        "import anvil.server\n",
        "# Conectando a la aplicación de Anvil\n",
        "anvil.server.connect('GY4I5XK43GK2QKS5OZGTO4TW-O4A3LZOX44DA6BU7')"
      ],
      "metadata": {
        "colab": {
          "base_uri": "https://localhost:8080/"
        },
        "id": "zCS11dlqP16k",
        "outputId": "6055a013-92c2-4ebc-df59-ade7eecfddd6"
      },
      "execution_count": 7,
      "outputs": [
        {
          "output_type": "stream",
          "name": "stdout",
          "text": [
            "Connecting to wss://anvil.works/uplink\n",
            "Anvil websocket open\n",
            "Connected to \"Default environment\" as SERVER\n"
          ]
        }
      ]
    },
    {
      "cell_type": "markdown",
      "source": [
        "# Configurando el Callable function"
      ],
      "metadata": {
        "id": "jZxQLG-2RUiE"
      }
    },
    {
      "cell_type": "code",
      "source": [
        "# Diciendole al servidor de Colab que esta es una función de ANVIL Callable\n",
        "@anvil.server.callable\n",
        "# Definición de la función \n",
        "def answer_questions(question_text, context_text):\n",
        "  # Convirtiendo a un diccionario\n",
        "  question_set = {\n",
        "    'question': question_text,\n",
        "    'context': context_text\n",
        "  }\n",
        "  # Ejecutando a traves de Q&A pipeline\n",
        "  result = nlp(question_set)\n",
        "\n",
        "  # Obteniendo y retornando solo la respuesta del dict\n",
        "  return result['answer']"
      ],
      "metadata": {
        "id": "ZKV4cSC-RDf6"
      },
      "execution_count": 8,
      "outputs": []
    },
    {
      "cell_type": "code",
      "source": [
        "anvil_result = answer_questions('When kratos appeared?', context)\n",
        "anvil_result"
      ],
      "metadata": {
        "colab": {
          "base_uri": "https://localhost:8080/",
          "height": 92
        },
        "id": "wB-jB9L3UDEW",
        "outputId": "3fb3d5a0-18b4-4e28-9769-ff6b81ac1c6a"
      },
      "execution_count": 10,
      "outputs": [
        {
          "output_type": "stream",
          "name": "stderr",
          "text": [
            "/usr/local/lib/python3.7/dist-packages/numpy/core/_asarray.py:83: VisibleDeprecationWarning: Creating an ndarray from ragged nested sequences (which is a list-or-tuple of lists-or-tuples-or ndarrays with different lengths or shapes) is deprecated. If you meant to do this, you must specify 'dtype=object' when creating the ndarray\n",
            "  return array(a, dtype, copy=False, order=order)\n"
          ]
        },
        {
          "output_type": "execute_result",
          "data": {
            "application/vnd.google.colaboratory.intrinsic+json": {
              "type": "string"
            },
            "text/plain": [
              "'2005'"
            ]
          },
          "metadata": {},
          "execution_count": 10
        }
      ]
    },
    {
      "cell_type": "code",
      "source": [
        ""
      ],
      "metadata": {
        "id": "VMsaqy1vURLp"
      },
      "execution_count": null,
      "outputs": []
    }
  ]
}